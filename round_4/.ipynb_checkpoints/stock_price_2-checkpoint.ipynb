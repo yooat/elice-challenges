{
 "cells": [
  {
   "cell_type": "markdown",
   "metadata": {},
   "source": [
    "# 주식 가격 예측\n"
   ]
  },
  {
   "cell_type": "code",
   "execution_count": 1,
   "metadata": {},
   "outputs": [
    {
     "name": "stderr",
     "output_type": "stream",
     "text": [
      "/Users/yoo/anaconda/lib/python3.6/site-packages/sklearn/cross_validation.py:44: DeprecationWarning: This module was deprecated in version 0.18 in favor of the model_selection module into which all the refactored classes and functions are moved. Also note that the interface of the new CV iterators are different from that of this module. This module will be removed in 0.20.\n",
      "  \"This module will be removed in 0.20.\", DeprecationWarning)\n"
     ]
    }
   ],
   "source": [
    "import sys\n",
    "import random\n",
    "import pickle\n",
    "\n",
    "import pandas as pd\n",
    "import numpy as np\n",
    "import json\n",
    "\n",
    "import math\n",
    "import datetime\n",
    "\n",
    "from sklearn import preprocessing, cross_validation, svm\n",
    "from sklearn.metrics import mean_squared_error\n",
    "from sklearn.linear_model import LinearRegression\n",
    "from sklearn.svm import SVR\n",
    "from sklearn.svm import LinearSVC\n",
    "\n",
    "from sklearn.externals import joblib\n",
    "from sklearn.pipeline import Pipeline\n",
    "\n",
    "from sklearn.linear_model import LogisticRegression\n",
    "from sklearn.ensemble import RandomForestClassifier\n",
    "from sklearn.linear_model import SGDClassifier\n",
    "import xgboost\n",
    "\n",
    "from sklearn.metrics import classification_report\n",
    "from sklearn.metrics import confusion_matrix\n",
    "from sklearn.metrics import accuracy_score\n",
    "\n",
    "\n",
    "import matplotlib.pyplot as plt\n"
   ]
  },
  {
   "cell_type": "markdown",
   "metadata": {},
   "source": [
    "### Reading Dataset"
   ]
  },
  {
   "cell_type": "code",
   "execution_count": 2,
   "metadata": {
    "collapsed": true
   },
   "outputs": [],
   "source": [
    "# read train data\n",
    "with open('./data/train_data.json') as fp:\n",
    "    json_str = fp.read()\n",
    "    json_data = json.loads(json_str)"
   ]
  },
  {
   "cell_type": "code",
   "execution_count": 3,
   "metadata": {
    "collapsed": true
   },
   "outputs": [],
   "source": [
    "train_df = pd.DataFrame(json_data, columns=['date','name','open','close','low','high','vol'])"
   ]
  },
  {
   "cell_type": "code",
   "execution_count": 4,
   "metadata": {
    "collapsed": true
   },
   "outputs": [],
   "source": [
    "with open('./data/grading.input.txt') as fp:\n",
    "    sbm_in = fp.read()\n",
    "    sbm_in = sbm_in.splitlines()"
   ]
  },
  {
   "cell_type": "code",
   "execution_count": 5,
   "metadata": {
    "scrolled": true
   },
   "outputs": [
    {
     "name": "stdout",
     "output_type": "stream",
     "text": [
      "0 counts name:  teller . Length of y:  249\n",
      "50 counts name:  speeders . Length of y:  1760\n",
      "100 counts name:  hairs . Length of y:  1760\n",
      "150 counts name:  thyristors . Length of y:  1760\n",
      "200 counts name:  jurisdictions . Length of y:  1760\n",
      "250 counts name:  anchors . Length of y:  1760\n",
      "300 counts name:  shovels . Length of y:  1760\n",
      "350 counts name:  tab . Length of y:  1760\n",
      "400 counts name:  tires . Length of y:  1760\n",
      "450 counts name:  similarity . Length of y:  1760\n",
      "500 counts name:  leaf . Length of y:  124\n"
     ]
    }
   ],
   "source": [
    "# teller_df = train_df[train_df['name']=='teller']\n",
    "pred_lst = []\n",
    "total = 0\n",
    "true_t = 0\n",
    "for idx, name in enumerate(sbm_in[:]):\n",
    "\n",
    "    teller_df = train_df[train_df['name']==name][:]\n",
    "    teller_df = teller_df.set_index('date')\n",
    "\n",
    "    teller_df['hl_pct'] = (teller_df['high'] - teller_df['low'])/(teller_df['low']*100)\n",
    "    teller_df['pct_chng'] = (teller_df['close'] - teller_df['open'])/(teller_df['open']*100)\n",
    "\n",
    "\n",
    "\n",
    "    # 예측 컬럼\n",
    "    forecast_col = 'close'\n",
    "    # 예측 기간 하루\n",
    "    forecast_out = int(1)\n",
    "    # forecast_out에 맞춰 label을 변경\n",
    "    teller_df['label'] = teller_df[forecast_col].shift(-forecast_out)\n",
    "    # 방향 예측을 위한 전처리\n",
    "    teller_df['direction'] = teller_df['label'] >= teller_df['close']\n",
    "\n",
    "    # X, y\n",
    "    X = teller_df[['close','hl_pct','pct_chng']]\n",
    "    X = preprocessing.scale(X)\n",
    "    X_forecast_out = X[-forecast_out:]\n",
    "    X = X[:-forecast_out]\n",
    "\n",
    "    y = np.array(teller_df['label'])\n",
    "    y = y[:-forecast_out]\n",
    "    y_d = np.array(teller_df['direction'])\n",
    "    y_d = y_d[:-forecast_out]\n",
    "\n",
    "    if idx % 50 == 0:\n",
    "        print(idx,'counts name: ',name, '. Length of y: ', len(y))\n",
    "    \n",
    "    #model = SVR(kernel='linear',C=0.01).fit(X,y)\n",
    "    model = LinearRegression().fit(X,y)\n",
    "    model_d = LogisticRegression(C=0.1).fit(X,y_d)\n",
    "    #model_d = xgboost.XGBClassifier(n_estimators=100,max_depth=7).fit(X,y_d)\n",
    "    y_pred = model.predict(X_forecast_out)\n",
    "    y_d_pred = model_d.predict(X_forecast_out)\n",
    "\n",
    "    if y_d_pred:\n",
    "        val = '+'\n",
    "    else:\n",
    "        val = '-'\n",
    "   # val = '+'\n",
    "    val += ' ' + str(float(y_pred))\n",
    "\n",
    "    pred_lst.append(str(val))"
   ]
  },
  {
   "cell_type": "markdown",
   "metadata": {},
   "source": [
    "#### submission"
   ]
  },
  {
   "cell_type": "code",
   "execution_count": null,
   "metadata": {
    "collapsed": true
   },
   "outputs": [],
   "source": [
    "# submission\n",
    "# 73.2714\n",
    "output_file = 'submission.txt'\n",
    "\n",
    "with open(output_file, 'w') as fp:\n",
    "    for _test_pred in pred_lst:\n",
    "        fp.write(_test_pred)\n",
    "        fp.write('\\n')"
   ]
  }
 ],
 "metadata": {
  "kernelspec": {
   "display_name": "Python 3",
   "language": "python",
   "name": "python3"
  },
  "language_info": {
   "codemirror_mode": {
    "name": "ipython",
    "version": 3
   },
   "file_extension": ".py",
   "mimetype": "text/x-python",
   "name": "python",
   "nbconvert_exporter": "python",
   "pygments_lexer": "ipython3",
   "version": "3.6.1"
  }
 },
 "nbformat": 4,
 "nbformat_minor": 2
}
